{
  "cells": [
    {
      "cell_type": "code",
      "execution_count": null,
      "metadata": {
        "id": "HuvkOxjVkDSx"
      },
      "outputs": [],
      "source": [
        "!pip install pandas\n",
        "!pip install matplotlib\n",
        "!pip install seaborn"
      ]
    },
    {
      "cell_type": "code",
      "execution_count": null,
      "metadata": {
        "id": "RpIq_kues4_o"
      },
      "outputs": [],
      "source": [
        "import pandas as pd\n",
        "import matplotlib.pyplot as plt\n",
        "import seaborn as sns"
      ]
    },
    {
      "cell_type": "code",
      "execution_count": null,
      "metadata": {
        "id": "4AnGxcBg1zeD"
      },
      "outputs": [],
      "source": [
        "data = pd.read_csv('/content/OnlineShoppersС.csv')"
      ]
    },
    {
      "cell_type": "code",
      "execution_count": null,
      "metadata": {
        "id": "sxJwLRxz19dO"
      },
      "outputs": [],
      "source": [
        "data"
      ]
    },
    {
      "cell_type": "code",
      "execution_count": null,
      "metadata": {
        "id": "XchW_MsA1-Nv"
      },
      "outputs": [],
      "source": [
        "data.info()"
      ]
    },
    {
      "cell_type": "code",
      "execution_count": null,
      "metadata": {
        "id": "yHf5Egze2Bxj"
      },
      "outputs": [],
      "source": [
        "data = data.drop(columns=['Unnamed: 18'])"
      ]
    },
    {
      "cell_type": "code",
      "execution_count": null,
      "metadata": {
        "id": "uAlN6D0M2kPm"
      },
      "outputs": [],
      "source": [
        "data.duplicated().sum()"
      ]
    },
    {
      "cell_type": "code",
      "execution_count": null,
      "metadata": {
        "id": "OPBFwYzL3NQz"
      },
      "outputs": [],
      "source": [
        "data.drop_duplicates(inplace=True)"
      ]
    },
    {
      "cell_type": "code",
      "execution_count": null,
      "metadata": {
        "id": "qMxJr2tY3QQ9"
      },
      "outputs": [],
      "source": [
        "data.duplicated().sum()"
      ]
    },
    {
      "cell_type": "code",
      "execution_count": null,
      "metadata": {
        "id": "ARmdz3AD3TFq"
      },
      "outputs": [],
      "source": [
        "columns = ['Month','VisitorType']\n",
        "for column in columns:\n",
        "  data[column] = data[column].factorize()[0]"
      ]
    },
    {
      "cell_type": "code",
      "execution_count": null,
      "metadata": {
        "id": "Pfi0q0xp4svU"
      },
      "outputs": [],
      "source": [
        "data"
      ]
    },
    {
      "cell_type": "code",
      "execution_count": null,
      "metadata": {
        "id": "ExJejkmD4uOV"
      },
      "outputs": [],
      "source": [
        "data.info()"
      ]
    },
    {
      "cell_type": "code",
      "execution_count": null,
      "metadata": {
        "id": "yQKZJj5y54CZ"
      },
      "outputs": [],
      "source": [
        "data.describe()"
      ]
    },
    {
      "cell_type": "markdown",
      "metadata": {
        "id": "AorVllqIi9vf"
      },
      "source": [
        "визуализация"
      ]
    },
    {
      "cell_type": "markdown",
      "metadata": {
        "id": "2qjy1ebtjCC1"
      },
      "source": [
        "гистограммы"
      ]
    },
    {
      "cell_type": "code",
      "execution_count": null,
      "metadata": {
        "id": "RnomM13HjBTV"
      },
      "outputs": [],
      "source": [
        "data.hist(bins=30, figsize=(12, 8))\n",
        "plt.tight_layout()\n",
        "plt.show()"
      ]
    },
    {
      "cell_type": "markdown",
      "metadata": {
        "id": "Qd6TXNpZkex_"
      },
      "source": [
        "ящики с усами"
      ]
    },
    {
      "cell_type": "code",
      "execution_count": null,
      "metadata": {
        "id": "V2SpcsF5k5lg"
      },
      "outputs": [],
      "source": [
        "data.columns"
      ]
    },
    {
      "cell_type": "code",
      "execution_count": null,
      "metadata": {
        "id": "lxVv0CHjjOap"
      },
      "outputs": [],
      "source": [
        "for column in ['Administrative', 'Administrative_Duration', 'Informational',\n",
        "       'Informational_Duration', 'ProductRelated', 'ProductRelated_Duration',\n",
        "       'BounceRates', 'ExitRates', 'PageValues', 'SpecialDay', 'Month',\n",
        "       'OperatingSystems', 'Browser', 'Region', 'TrafficType', 'VisitorType']:\n",
        "  plt.figure(figsize=(8, 6))\n",
        "  plt.boxplot(data[column])\n",
        "  plt.title(column)\n",
        "  plt.show()"
      ]
    },
    {
      "cell_type": "code",
      "execution_count": null,
      "metadata": {
        "id": "Hro8IHdmkoVg"
      },
      "outputs": [],
      "source": [
        "def replace_outliers_with_mean(df):\n",
        "    for column in ['Administrative_Duration', 'Informational',\n",
        "       'Informational_Duration', 'ProductRelated', 'ProductRelated_Duration',\n",
        "       'BounceRates', 'PageValues']:\n",
        "        Q1 = df[column].quantile(0.25)\n",
        "        Q3 = df[column].quantile(0.75)\n",
        "        IQR = Q3 - Q1\n",
        "\n",
        "        lower_bound = Q1 - 1.5 * IQR\n",
        "        upper_bound = Q3 + 1.5 * IQR\n",
        "\n",
        "        mean_value = df[column].mean()\n",
        "\n",
        "        df[column] = df[column].apply(lambda x: mean_value if x < lower_bound or x > upper_bound else x)\n",
        "\n",
        "    return df\n",
        "\n",
        "data = replace_outliers_with_mean(data)\n",
        "\n",
        "data.head()"
      ]
    },
    {
      "cell_type": "code",
      "execution_count": null,
      "metadata": {
        "id": "Lwt1dSmsmqYc"
      },
      "outputs": [],
      "source": [
        "for column in ['Administrative', 'Administrative_Duration', 'Informational',\n",
        "       'Informational_Duration', 'ProductRelated', 'ProductRelated_Duration',\n",
        "       'BounceRates', 'ExitRates', 'PageValues', 'SpecialDay', 'Month',\n",
        "       'OperatingSystems', 'Browser', 'Region', 'TrafficType', 'VisitorType']:\n",
        "  plt.figure(figsize=(8, 6))\n",
        "  plt.boxplot(data[column])\n",
        "  plt.title(column)\n",
        "  plt.show()"
      ]
    },
    {
      "cell_type": "markdown",
      "metadata": {
        "id": "-dm13O-4myg4"
      },
      "source": [
        "диаграммы рассеяния"
      ]
    },
    {
      "cell_type": "code",
      "execution_count": null,
      "metadata": {
        "id": "9PA3poRRmtR4"
      },
      "outputs": [],
      "source": [
        "['Administrative', 'Administrative_Duration', 'Informational',\n",
        "       'Informational_Duration', 'ProductRelated', 'ProductRelated_Duration',\n",
        "       'BounceRates', 'ExitRates', 'PageValues', 'SpecialDay', 'Month',\n",
        "       'OperatingSystems', 'Browser', 'Region', 'TrafficType', 'VisitorType']\n",
        "pairs = [\n",
        "    ('Administrative', 'BounceRates'),\n",
        "    ('Administrative', 'ExitRates'),\n",
        "    ('Administrative', 'PageValues'),\n",
        "    ('Administrative', 'SpecialDay'),\n",
        "    ('Administrative', 'Month'),\n",
        "]\n",
        "\n",
        "for x_col, y_col in pairs:\n",
        "    plt.figure(figsize=(6, 4))\n",
        "    plt.scatter(data[x_col], data[y_col])\n",
        "    plt.xlabel(x_col)\n",
        "    plt.ylabel(y_col)\n",
        "    plt.title(f'{y_col} vs {x_col}')\n",
        "    plt.tight_layout()\n",
        "    plt.show()"
      ]
    },
    {
      "cell_type": "code",
      "execution_count": null,
      "metadata": {
        "id": "cDV_oKCHm84L"
      },
      "outputs": [],
      "source": [
        "corr_matrix = data.corr()\n",
        "\n",
        "plt.figure(figsize=(12, 12))\n",
        "\n",
        "sns.heatmap(corr_matrix, annot=True, linewidths=0.5)\n",
        "\n",
        "plt.tight_layout()\n",
        "plt.show()"
      ]
    },
    {
      "cell_type": "markdown",
      "metadata": {
        "id": "8Uo1B_jrsQ7H"
      },
      "source": [
        "модели\n"
      ]
    },
    {
      "cell_type": "code",
      "execution_count": null,
      "metadata": {
        "id": "hNL7KJoopY9e"
      },
      "outputs": [],
      "source": [
        "X = data.drop(columns=['Revenue'])\n",
        "y = data['Revenue']"
      ]
    },
    {
      "cell_type": "markdown",
      "source": [
        "снижение размерности"
      ],
      "metadata": {
        "id": "VEIMutC53fx3"
      }
    },
    {
      "cell_type": "code",
      "execution_count": null,
      "metadata": {
        "id": "QlX6pKzDuD1-"
      },
      "outputs": [],
      "source": [
        "from sklearn.feature_selection import VarianceThreshold\n",
        "\n",
        "selector = VarianceThreshold(threshold=0.1)\n",
        "\n",
        "X_reduced = selector.fit_transform(X)\n",
        "\n",
        "selected_columns = X.columns[selector.get_support()]\n",
        "\n",
        "print(f\"Оставшиеся признаки ({len(selected_columns)}): {list(selected_columns)}\")\n",
        "\n",
        "X = data[selected_columns]\n",
        "X"
      ]
    },
    {
      "cell_type": "markdown",
      "source": [
        "балансировка"
      ],
      "metadata": {
        "id": "YTtmZY663j7u"
      }
    },
    {
      "cell_type": "code",
      "source": [
        "pd.Series(y).value_counts()"
      ],
      "metadata": {
        "id": "fOIK9f3a3EtO"
      },
      "execution_count": null,
      "outputs": []
    },
    {
      "cell_type": "code",
      "source": [
        "from imblearn.over_sampling import SMOTE\n",
        "from imblearn.under_sampling import RandomUnderSampler\n",
        "import pandas as pd\n",
        "\n",
        "smote = SMOTE(random_state=42)\n",
        "X_sm, y_sm = smote.fit_resample(X, y)\n",
        "\n",
        "sampling_strategy = {0: 5000, 1: 5000}\n",
        "\n",
        "undersample = RandomUnderSampler(sampling_strategy=sampling_strategy, random_state=42)\n",
        "X, y = undersample.fit_resample(X_sm, y_sm)\n",
        "\n",
        "print(pd.Series(y).value_counts())\n",
        "print(f\"Итоговый размер: {len(X)}\")\n"
      ],
      "metadata": {
        "id": "kCXcwgaF3CHx"
      },
      "execution_count": null,
      "outputs": []
    },
    {
      "cell_type": "markdown",
      "source": [
        "из моей ЛР3"
      ],
      "metadata": {
        "id": "X_rmbVL35bR-"
      }
    },
    {
      "cell_type": "code",
      "source": [
        "from imblearn.under_sampling import TomekLinks, RandomUnderSampler\n",
        "import pandas as pd\n",
        "\n",
        "tomek = TomekLinks()\n",
        "X_cleaned, Y_cleaned = tomek.fit_resample(X, Y)\n",
        "\n",
        "sampling_strategy = {0: 1000, 1: 1000}\n",
        "\n",
        "undersample = RandomUnderSampler(sampling_strategy=sampling_strategy, random_state=42)\n",
        "X, Y = undersample.fit_resample(X_cleaned, Y_cleaned)\n",
        "\n",
        "print(pd.Series(Y).value_counts())\n",
        "print(f\"Итоговый размер: {len(Y)}\")\n"
      ],
      "metadata": {
        "id": "IOsXuxOx-Yof"
      },
      "execution_count": null,
      "outputs": []
    },
    {
      "cell_type": "code",
      "source": [
        "X_train, X_test, y_train, y_test = train_test_split(\n",
        "    X, y, test_size=0.2, random_state=42\n",
        ")"
      ],
      "metadata": {
        "id": "jVKwLuhb-xgO"
      },
      "execution_count": null,
      "outputs": []
    },
    {
      "cell_type": "markdown",
      "source": [
        "логистическая регрессия"
      ],
      "metadata": {
        "id": "AW2LkyZo-ijn"
      }
    },
    {
      "cell_type": "code",
      "source": [
        "from scipy.stats import uniform\n",
        "from sklearn.linear_model import LogisticRegression\n",
        "from sklearn.model_selection import RandomizedSearchCV\n",
        "\n",
        "param_distributions = {\n",
        "    'C':        [0.001, 0.01, 0.1, 1, 10],\n",
        "    'l1_ratio': [0.0, 0.25, 0.5, 0.75, 1.0]\n",
        "}\n",
        "\n",
        "rs = RandomizedSearchCV(\n",
        "    estimator=LogisticRegression(\n",
        "        penalty='elasticnet',\n",
        "        solver='saga',\n",
        "        max_iter=1000,\n",
        "        random_state=42\n",
        "    ),\n",
        "    param_distributions=param_distributions,\n",
        "    n_iter=10,\n",
        "    cv=5,\n",
        "    scoring='accuracy',\n",
        "    random_state=42,\n",
        "    n_jobs=-1\n",
        ")\n",
        "\n",
        "rs.fit(X_train, y_train)\n",
        "print(\"Best params:\", rs.best_params_)\n",
        "print(\"Test accuracy:\", rs.score(X_test, y_test))\n"
      ],
      "metadata": {
        "id": "RByIN7wR4qAf"
      },
      "execution_count": null,
      "outputs": []
    },
    {
      "cell_type": "code",
      "source": [
        "from sklearn.linear_model import LogisticRegression\n",
        "from sklearn.metrics import (\n",
        "    accuracy_score, precision_score, recall_score, f1_score,\n",
        "    roc_auc_score, classification_report\n",
        ")\n",
        "\n",
        "# Предполагается, что X_train, X_test, y_train, y_test уже определены\n",
        "\n",
        "# 1) Инициализация и обучение модели\n",
        "model = LogisticRegression(\n",
        "    penalty='elasticnet',\n",
        "    solver='saga',\n",
        "    C=0.001,\n",
        "    l1_ratio=0.0,\n",
        "    max_iter=1000,\n",
        "    random_state=42\n",
        ").fit(X_train, y_train)\n",
        "\n",
        "# 2) Предсказания меток и вероятностей\n",
        "y_pred_train = model.predict(X_train)\n",
        "y_pred_test  = model.predict(X_test)\n",
        "y_proba_train = model.predict_proba(X_train)[:, 1]\n",
        "y_proba_test  = model.predict_proba(X_test)[:, 1]\n",
        "\n",
        "# 3) Метрики на train\n",
        "print(\"=== Train metrics ===\")\n",
        "print(\"Accuracy : \", accuracy_score(y_train, y_pred_train))\n",
        "print(\"Precision: \", precision_score(y_train, y_pred_train))\n",
        "print(\"Recall   : \", recall_score(y_train, y_pred_train))\n",
        "print(\"F1-score : \", f1_score(y_train, y_pred_train))\n",
        "print(\"ROC AUC  : \", roc_auc_score(y_train, y_proba_train))\n",
        "print(\"\\nClassification Report (Train):\")\n",
        "print(classification_report(y_train, y_pred_train))\n",
        "\n",
        "# 4) Метрики на test\n",
        "print(\"=== Test metrics ===\")\n",
        "print(\"Accuracy : \", accuracy_score(y_test, y_pred_test))\n",
        "print(\"Precision: \", precision_score(y_test, y_pred_test))\n",
        "print(\"Recall   : \", recall_score(y_test, y_pred_test))\n",
        "print(\"F1-score : \", f1_score(y_test, y_pred_test))\n",
        "print(\"ROC AUC  : \", roc_auc_score(y_test, y_proba_test))\n",
        "print(\"\\nClassification Report (Test):\")\n",
        "print(classification_report(y_test, y_pred_test))\n"
      ],
      "metadata": {
        "id": "4Huti74gLOgw"
      },
      "execution_count": null,
      "outputs": []
    },
    {
      "cell_type": "markdown",
      "source": [
        "дерево решений"
      ],
      "metadata": {
        "id": "nGKg0FrHH4K7"
      }
    },
    {
      "cell_type": "code",
      "source": [
        "from sklearn.tree import DecisionTreeClassifier\n",
        "from scipy.stats import randint\n",
        "from sklearn.model_selection import RandomizedSearchCV, train_test_split\n",
        "\n",
        "param_distributions = {\n",
        "    'max_depth':        randint(3, 15),\n",
        "    'min_samples_split':randint(2, 20),\n",
        "    'min_samples_leaf': randint(1, 10)\n",
        "}\n",
        "\n",
        "rs = RandomizedSearchCV(\n",
        "    estimator=DecisionTreeClassifier(random_state=42),\n",
        "    param_distributions=param_distributions,\n",
        "    n_iter=20,\n",
        "    cv=3,\n",
        "    scoring='accuracy',\n",
        "    random_state=42,\n",
        "    n_jobs=-1\n",
        ")\n",
        "rs.fit(X_train, y_train)\n",
        "\n",
        "print(\"Best params:\", rs.best_params_)\n",
        "print(\"Test accuracy:\", rs.score(X_test, y_test))\n"
      ],
      "metadata": {
        "id": "hcp8JiwfH5NW"
      },
      "execution_count": null,
      "outputs": []
    },
    {
      "cell_type": "code",
      "source": [
        "from sklearn.tree import DecisionTreeClassifier\n",
        "from sklearn.metrics import (\n",
        "    accuracy_score, precision_score, recall_score, f1_score,\n",
        "    roc_auc_score, classification_report\n",
        ")\n",
        "\n",
        "# Предполагается, что X_train, X_test, y_train, y_test уже определены\n",
        "\n",
        "# Инициализация модели с найденными гиперпараметрами\n",
        "model = DecisionTreeClassifier(\n",
        "    max_depth=6,\n",
        "    min_samples_split=13,\n",
        "    min_samples_leaf=7,\n",
        "    random_state=42\n",
        ")\n",
        "\n",
        "# Обучение\n",
        "model.fit(X_train, y_train)\n",
        "\n",
        "# Предсказания и вероятности\n",
        "y_pred_train = model.predict(X_train)\n",
        "y_pred_test  = model.predict(X_test)\n",
        "y_proba_train = model.predict_proba(X_train)[:, 1]\n",
        "y_proba_test  = model.predict_proba(X_test)[:, 1]\n",
        "\n",
        "# Метрики на train\n",
        "print(\"=== Train metrics ===\")\n",
        "print(\"Accuracy : \", accuracy_score(y_train, y_pred_train))\n",
        "print(\"Precision: \", precision_score(y_train, y_pred_train))\n",
        "print(\"Recall   : \", recall_score(y_train, y_pred_train))\n",
        "print(\"F1-score : \", f1_score(y_train, y_pred_train))\n",
        "print(\"ROC AUC  : \", roc_auc_score(y_train, y_proba_train))\n",
        "print(\"\\nClassification Report (Train):\")\n",
        "print(classification_report(y_train, y_pred_train))\n",
        "\n",
        "# Метрики на test\n",
        "print(\"=== Test metrics ===\")\n",
        "print(\"Accuracy : \", accuracy_score(y_test, y_pred_test))\n",
        "print(\"Precision: \", precision_score(y_test, y_pred_test))\n",
        "print(\"Recall   : \", recall_score(y_test, y_pred_test))\n",
        "print(\"F1-score : \", f1_score(y_test, y_pred_test))\n",
        "print(\"ROC AUC  : \", roc_auc_score(y_test, y_proba_test))\n",
        "print(\"\\nClassification Report (Test):\")\n",
        "print(classification_report(y_test, y_pred_test))\n"
      ],
      "metadata": {
        "id": "6DIS0gSxMLqu"
      },
      "execution_count": null,
      "outputs": []
    },
    {
      "cell_type": "markdown",
      "source": [
        "Light GBM"
      ],
      "metadata": {
        "id": "2KxOoWhwIcu4"
      }
    },
    {
      "cell_type": "code",
      "source": [
        "from sklearn.model_selection import train_test_split, RandomizedSearchCV\n",
        "from lightgbm import LGBMClassifier\n",
        "from scipy.stats import randint, uniform\n",
        "\n",
        "\n",
        "param_distributions = {\n",
        "    'num_leaves':        randint(20, 150),\n",
        "    'max_depth':         randint(3, 12),\n",
        "    'learning_rate':     uniform(loc=0.01, scale=0.29)\n",
        "}\n",
        "\n",
        "rs = RandomizedSearchCV(\n",
        "    estimator=LGBMClassifier(random_state=42, n_jobs=-1),\n",
        "    param_distributions=param_distributions,\n",
        "    n_iter=20,\n",
        "    cv=3,\n",
        "    scoring='accuracy',\n",
        "    random_state=42,\n",
        "    n_jobs=-1\n",
        ")\n",
        "\n",
        "rs.fit(X_train, y_train)\n",
        "\n",
        "print(\"Best params:\", rs.best_params_)\n",
        "print(\"Test accuracy:\", rs.score(X_test, y_test))\n"
      ],
      "metadata": {
        "id": "4YJfUhScIfdi"
      },
      "execution_count": null,
      "outputs": []
    },
    {
      "cell_type": "code",
      "source": [
        "from lightgbm import LGBMClassifier\n",
        "from sklearn.metrics import accuracy_score, precision_score, recall_score, f1_score, roc_auc_score\n",
        "\n",
        "model = LGBMClassifier(\n",
        "    learning_rate=0.29127385712697834,\n",
        "    max_depth=8,\n",
        "    num_leaves=149,\n",
        "    n_estimators=100,\n",
        "    random_state=42,\n",
        "    n_jobs=-1\n",
        ")\n",
        "model.fit(X_train, y_train)\n",
        "\n",
        "y_pred_train = model.predict(X_train)\n",
        "y_proba_train = model.predict_proba(X_train)[:, 1]\n",
        "y_pred_test  = model.predict(X_test)\n",
        "y_proba_test = model.predict_proba(X_test)[:, 1]\n",
        "\n",
        "acc_train     = accuracy_score(y_train, y_pred_train)\n",
        "prec_train    = precision_score(y_train, y_pred_train)\n",
        "rec_train     = recall_score(y_train, y_pred_train)\n",
        "f1_train      = f1_score(y_train, y_pred_train)\n",
        "roc_auc_train = roc_auc_score(y_train, y_proba_train)\n",
        "\n",
        "acc_test     = accuracy_score(y_test, y_pred_test)\n",
        "prec_test    = precision_score(y_test, y_pred_test)\n",
        "rec_test     = recall_score(y_test, y_pred_test)\n",
        "f1_test      = f1_score(y_test, y_pred_test)\n",
        "roc_auc_test = roc_auc_score(y_test, y_proba_test)\n",
        "\n",
        "print(\"=== Train Metrics ===\")\n",
        "print(f\"Accuracy : {acc_train:.4f}\")\n",
        "print(f\"Precision: {prec_train:.4f}\")\n",
        "print(f\"Recall   : {rec_train:.4f}\")\n",
        "print(f\"F1-score : {f1_train:.4f}\")\n",
        "print(f\"ROC AUC  : {roc_auc_train:.4f}\\n\")\n",
        "\n",
        "print(\"=== Test Metrics ===\")\n",
        "print(f\"Accuracy : {acc_test:.4f}\")\n",
        "print(f\"Precision: {prec_test:.4f}\")\n",
        "print(f\"Recall   : {rec_test:.4f}\")\n",
        "print(f\"F1-score : {f1_test:.4f}\")\n",
        "print(f\"ROC AUC  : {roc_auc_test:.4f}\")\n"
      ],
      "metadata": {
        "id": "3FxzQOveOvvu"
      },
      "execution_count": null,
      "outputs": []
    },
    {
      "cell_type": "markdown",
      "source": [
        "Accuracy\n",
        "– Когда классы примерно сбалансированы и ложноположительные (FP) и ложноотрицательные (FN) ошибки едва ли имеют разную «стоимость».\n",
        "\n",
        "Precision\n",
        "– Если дорого выдавать «ложные тревоги» (FP). Например, спам-фильтр: лучше не пометить важное письмо как спам.\n",
        "\n",
        "Recall\n",
        "– Когда критично не пропустить «положительный» класс (FN). Например, медицинская диагностика или обнаружение мошенничества.\n",
        "\n",
        "F1-score\n",
        "– Если нужно единое число-компромисс между Precision и Recall и нет явного приоритета ни на FP, ни на FN.\n",
        "\n",
        "ROC-AUC\n",
        "– Для общего сравнения моделей по качеству ранжирования (вероятностных предсказаний), особенно при умеренном балансе классов.\n",
        "\n",
        "PR-AUC\n",
        "– Когда положительный класс редок (сильный дисбаланс) и вы хотите оценить модель в области низких долей «1»."
      ],
      "metadata": {
        "id": "hsNRFmCBOKBu"
      }
    },
    {
      "cell_type": "markdown",
      "source": [
        "деплой"
      ],
      "metadata": {
        "id": "5bHmGQT6QDq2"
      }
    },
    {
      "cell_type": "code",
      "source": [
        "import pandas as pd\n",
        "\n",
        "# Пример одного нового наблюдения\n",
        "new_data = pd.DataFrame([{\n",
        "    'Administrative': 5,\n",
        "    'Administrative_Duration': 120.5,\n",
        "    'Informational_Duration': 10.0,\n",
        "    'ProductRelated': 20,\n",
        "    'ProductRelated_Duration': 800.0,\n",
        "    'PageValues': 1.5,\n",
        "    'Month': 3,\n",
        "    'OperatingSystems': 2,\n",
        "    'Browser': 3,\n",
        "    'Region': 1,\n",
        "    'TrafficType': 4,\n",
        "    'VisitorType': 1,\n",
        "    'Weekend': False\n",
        "}])\n",
        "\n",
        "# Предсказание класса и вероятность для этого единственного объекта\n",
        "pred = model.predict(new_data)[0]\n",
        "proba = model.predict_proba(new_data)[0, 1]\n",
        "\n",
        "print(f\"Предсказанный класс: {int(pred)}\")\n",
        "print(f\"Вероятность класса 1: {proba:.3f}\")"
      ],
      "metadata": {
        "id": "d9f6OqHvPx0X"
      },
      "execution_count": null,
      "outputs": []
    },
    {
      "cell_type": "code",
      "source": [],
      "metadata": {
        "id": "bXdKRArROKS2"
      },
      "execution_count": null,
      "outputs": []
    }
  ],
  "metadata": {
    "colab": {
      "provenance": []
    },
    "kernelspec": {
      "display_name": "Python 3",
      "name": "python3"
    },
    "language_info": {
      "name": "python"
    }
  },
  "nbformat": 4,
  "nbformat_minor": 0
}